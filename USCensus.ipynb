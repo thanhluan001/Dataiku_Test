{
 "cells": [
  {
   "cell_type": "code",
   "execution_count": 1,
   "metadata": {
    "collapsed": true
   },
   "outputs": [],
   "source": [
    "import pandas as pd\n",
    "import numpy as np\n",
    "import pylab as plt"
   ]
  },
  {
   "cell_type": "markdown",
   "metadata": {},
   "source": [
    "# Process Input"
   ]
  },
  {
   "cell_type": "code",
   "execution_count": 2,
   "metadata": {
    "collapsed": false,
    "scrolled": false
   },
   "outputs": [
    {
     "name": "stdout",
     "output_type": "stream",
     "text": [
      "   AGE                           CLSWKR INDUSTRY OCCUPATION  \\\n",
      "0   73                  Not in universe        0          0   \n",
      "1   58   Self-employed-not incorporated        4         34   \n",
      "2   18                  Not in universe        0          0   \n",
      "3    9                  Not in universe        0          0   \n",
      "4   10                  Not in universe        0          0   \n",
      "\n",
      "                           EDU  WAGE  SCHOOL ATTENDING        MARRIAGE  \\\n",
      "0         High school graduate     0   Not in universe         Widowed   \n",
      "1   Some college but no degree     0   Not in universe        Divorced   \n",
      "2                   10th grade     0       High school   Never married   \n",
      "3                     Children     0   Not in universe   Never married   \n",
      "4                     Children     0   Not in universe   Never married   \n",
      "\n",
      "                       INDUSTRY                            OCCUPATION  \\\n",
      "0   Not in universe or children                       Not in universe   \n",
      "1                  Construction   Precision production craft & repair   \n",
      "2   Not in universe or children                       Not in universe   \n",
      "3   Not in universe or children                       Not in universe   \n",
      "4   Not in universe or children                       Not in universe   \n",
      "\n",
      "     ...      FATHER COUNTRY  MOTHER COUNTRY    SELF COUNTRY  \\\n",
      "0    ...       United-States   United-States   United-States   \n",
      "1    ...       United-States   United-States   United-States   \n",
      "2    ...             Vietnam         Vietnam         Vietnam   \n",
      "3    ...       United-States   United-States   United-States   \n",
      "4    ...       United-States   United-States   United-States   \n",
      "\n",
      "                                CITIZEN OWN BUSINESS VETERAN QUESIONAIRES  \\\n",
      "0     Native- Born in the United States            0      Not in universe   \n",
      "1     Native- Born in the United States            0      Not in universe   \n",
      "2   Foreign born- Not a citizen of U S             0      Not in universe   \n",
      "3     Native- Born in the United States            0      Not in universe   \n",
      "4     Native- Born in the United States            0      Not in universe   \n",
      "\n",
      "   VETERAN BENEFIT  WORK WEEKs IN YEAR  YEAR       EARN  \n",
      "0                2                   0    95   - 50000.  \n",
      "1                2                  52    94   - 50000.  \n",
      "2                2                   0    95   - 50000.  \n",
      "3                0                   0    94   - 50000.  \n",
      "4                0                   0    94   - 50000.  \n",
      "\n",
      "[5 rows x 42 columns]\n",
      "                 AGE           WAGE       CAPGAIN        CAPLOSS  \\\n",
      "count  199523.000000  199523.000000  199523.00000  199523.000000   \n",
      "mean       34.494199      55.426908     434.71899      37.313788   \n",
      "std        22.310895     274.896454    4697.53128     271.896428   \n",
      "min         0.000000       0.000000       0.00000       0.000000   \n",
      "25%        15.000000       0.000000       0.00000       0.000000   \n",
      "50%        33.000000       0.000000       0.00000       0.000000   \n",
      "75%        50.000000       0.000000       0.00000       0.000000   \n",
      "max        90.000000    9999.000000   99999.00000    4608.000000   \n",
      "\n",
      "            DIVIDENT         WEIGHT  NUM EMPLOYEES   OWN BUSINESS  \\\n",
      "count  199523.000000  199523.000000  199523.000000  199523.000000   \n",
      "mean      197.529533    1740.380269       1.956180       0.175438   \n",
      "std      1984.163658     993.768156       2.365126       0.553694   \n",
      "min         0.000000      37.870000       0.000000       0.000000   \n",
      "25%         0.000000    1061.615000       0.000000       0.000000   \n",
      "50%         0.000000    1618.310000       1.000000       0.000000   \n",
      "75%         0.000000    2188.610000       4.000000       0.000000   \n",
      "max     99999.000000   18656.300000       6.000000       2.000000   \n",
      "\n",
      "       VETERAN BENEFIT  WORK WEEKs IN YEAR           YEAR  \n",
      "count    199523.000000       199523.000000  199523.000000  \n",
      "mean          1.514833           23.174897      94.499672  \n",
      "std           0.851473           24.411488       0.500001  \n",
      "min           0.000000            0.000000      94.000000  \n",
      "25%           2.000000            0.000000      94.000000  \n",
      "50%           2.000000            8.000000      94.000000  \n",
      "75%           2.000000           52.000000      95.000000  \n",
      "max           2.000000           52.000000      95.000000  \n"
     ]
    }
   ],
   "source": [
    "census = pd.read_csv('census_income_learn.csv', header=None)\n",
    "census.columns = ['AGE', 'CLSWKR', 'INDUSTRY', 'OCCUPATION', 'EDU', 'WAGE', 'SCHOOL ATTENDING', \n",
    "                  'MARRIAGE', 'INDUSTRY', 'OCCUPATION', 'RACE', 'HISPANIC ORI', 'SEX', 'MEM UNION', \n",
    "                  'UNEMPLOY REASON', 'EMPLOYMENT STATUS', 'CAPGAIN', 'CAPLOSS' , 'DIVIDENT',\n",
    "                  'FEDTAX', 'TAX FILLER', 'PREVIOUS STATE', 'HOUSEHOLD STATUS', \n",
    "                  'FAMILY STATUS', 'WEIGHT', 'MIGRANT  (MSA)', 'MIGRANT (REG)', \n",
    "                  'MIGRANT (WITHIN REG)', 'LIVE IN HOUSE', 'LIVE IN SUNBELT', 'NUM EMPLOYEES', \n",
    "                  'PARENT PRESENTED', 'FATHER COUNTRY', 'MOTHER COUNTRY', 'SELF COUNTRY',\n",
    "                  'CITIZEN', 'OWN BUSINESS', 'VETERAN QUESIONAIRES', 'VETERAN BENEFIT', \n",
    "                  'WORK WEEKs IN YEAR', 'YEAR', 'EARN']\n",
    "\n",
    "print(census.head(5))\n",
    "print(census.describe())"
   ]
  },
  {
   "cell_type": "markdown",
   "metadata": {},
   "source": [
    "There are 13 columns with numeric values. In these 13 columns, there are no missing values. I will use these first 13 columns for inital model. Will include more features if the accuracy is low. More inspection in row 42th, which is the role of the label. "
   ]
  },
  {
   "cell_type": "markdown",
   "metadata": {},
   "source": [
    "Change the 'EARN' row to [1, 0] for classification"
   ]
  },
  {
   "cell_type": "code",
   "execution_count": 3,
   "metadata": {
    "collapsed": true
   },
   "outputs": [],
   "source": [
    "def processInput(data):\n",
    "    data.loc[census['EARN'] == ' - 50000.', 'EARN'] = 0\n",
    "    data.loc[census['EARN'] == ' 50000+.', 'EARN'] = 1"
   ]
  },
  {
   "cell_type": "code",
   "execution_count": 4,
   "metadata": {
    "collapsed": false
   },
   "outputs": [
    {
     "name": "stdout",
     "output_type": "stream",
     "text": [
      "[' - 50000.' ' 50000+.']\n",
      "[0 1]\n"
     ]
    }
   ],
   "source": [
    "print(census['EARN'].unique())\n",
    "processInput(census)\n",
    "print(census['EARN'].unique())"
   ]
  },
  {
   "cell_type": "code",
   "execution_count": 5,
   "metadata": {
    "collapsed": false
   },
   "outputs": [
    {
     "name": "stdout",
     "output_type": "stream",
     "text": [
      "0    187141\n",
      "1     12382\n",
      "Name: EARN, dtype: int64\n",
      "0.93794199165\n"
     ]
    }
   ],
   "source": [
    "# The data is heavily skewed toward not making 50,000. If the model only predict 0, then it has the accuracy of\n",
    "print(census['EARN'].value_counts())\n",
    "print(float(187141)/199523)"
   ]
  },
  {
   "cell_type": "markdown",
   "metadata": {},
   "source": [
    "# Simple Logistic Regression"
   ]
  },
  {
   "cell_type": "code",
   "execution_count": 6,
   "metadata": {
    "collapsed": false
   },
   "outputs": [
    {
     "name": "stdout",
     "output_type": "stream",
     "text": [
      "0.939666107162\n"
     ]
    }
   ],
   "source": [
    "#Logistic Regression\n",
    "from sklearn import cross_validation\n",
    "from sklearn.linear_model import LogisticRegression\n",
    "\n",
    "predictors = [\"AGE\", \"WAGE\", \"DIVIDENT\", \"NUM EMPLOYEES\", \"OWN BUSINESS\", \"VETERAN BENEFIT\", \"WORK WEEKs IN YEAR\"]\n",
    "\n",
    "alg = LogisticRegression(random_state=1)\n",
    "# Compute the accuracy score for all the cross validation folds\n",
    "scores = cross_validation.cross_val_score(alg, census[predictors], list(census[\"EARN\"]), cv=3)\n",
    "# Take the mean of the scores (because we have one for each fold)\n",
    "print(scores.mean())"
   ]
  }
 ],
 "metadata": {
  "kernelspec": {
   "display_name": "Python 2",
   "language": "python",
   "name": "python2"
  },
  "language_info": {
   "codemirror_mode": {
    "name": "ipython",
    "version": 2
   },
   "file_extension": ".py",
   "mimetype": "text/x-python",
   "name": "python",
   "nbconvert_exporter": "python",
   "pygments_lexer": "ipython2",
   "version": "2.7.12"
  }
 },
 "nbformat": 4,
 "nbformat_minor": 0
}
