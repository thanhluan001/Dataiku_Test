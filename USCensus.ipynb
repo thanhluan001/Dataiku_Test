{
 "cells": [
  {
   "cell_type": "code",
   "execution_count": 1,
   "metadata": {
    "collapsed": true
   },
   "outputs": [],
   "source": [
    "%matplotlib inline\n",
    "\n",
    "import pandas as pd\n",
    "import numpy as np\n",
    "import matplotlib.pyplot as plt"
   ]
  },
  {
   "cell_type": "markdown",
   "metadata": {},
   "source": [
    "# Process Input"
   ]
  },
  {
   "cell_type": "code",
   "execution_count": 2,
   "metadata": {
    "collapsed": false,
    "scrolled": false
   },
   "outputs": [
    {
     "name": "stdout",
     "output_type": "stream",
     "text": [
      "   AGE                           CLSWKR INDUSTRY OCCUPATION  \\\n",
      "0   73                  Not in universe        0          0   \n",
      "1   58   Self-employed-not incorporated        4         34   \n",
      "2   18                  Not in universe        0          0   \n",
      "3    9                  Not in universe        0          0   \n",
      "4   10                  Not in universe        0          0   \n",
      "\n",
      "                           EDU  WAGE  SCHOOL ATTENDING        MARRIAGE  \\\n",
      "0         High school graduate     0   Not in universe         Widowed   \n",
      "1   Some college but no degree     0   Not in universe        Divorced   \n",
      "2                   10th grade     0       High school   Never married   \n",
      "3                     Children     0   Not in universe   Never married   \n",
      "4                     Children     0   Not in universe   Never married   \n",
      "\n",
      "                       INDUSTRY                            OCCUPATION  \\\n",
      "0   Not in universe or children                       Not in universe   \n",
      "1                  Construction   Precision production craft & repair   \n",
      "2   Not in universe or children                       Not in universe   \n",
      "3   Not in universe or children                       Not in universe   \n",
      "4   Not in universe or children                       Not in universe   \n",
      "\n",
      "     ...      FATHER COUNTRY  MOTHER COUNTRY    SELF COUNTRY  \\\n",
      "0    ...       United-States   United-States   United-States   \n",
      "1    ...       United-States   United-States   United-States   \n",
      "2    ...             Vietnam         Vietnam         Vietnam   \n",
      "3    ...       United-States   United-States   United-States   \n",
      "4    ...       United-States   United-States   United-States   \n",
      "\n",
      "                                CITIZEN OWN BUSINESS VETERAN QUESIONAIRES  \\\n",
      "0     Native- Born in the United States            0      Not in universe   \n",
      "1     Native- Born in the United States            0      Not in universe   \n",
      "2   Foreign born- Not a citizen of U S             0      Not in universe   \n",
      "3     Native- Born in the United States            0      Not in universe   \n",
      "4     Native- Born in the United States            0      Not in universe   \n",
      "\n",
      "   VETERAN BENEFIT  WORK WEEKs IN YEAR  YEAR       EARN  \n",
      "0                2                   0    95   - 50000.  \n",
      "1                2                  52    94   - 50000.  \n",
      "2                2                   0    95   - 50000.  \n",
      "3                0                   0    94   - 50000.  \n",
      "4                0                   0    94   - 50000.  \n",
      "\n",
      "[5 rows x 42 columns]\n",
      "<class 'pandas.core.frame.DataFrame'>\n",
      "RangeIndex: 199523 entries, 0 to 199522\n",
      "Data columns (total 42 columns):\n",
      "AGE                     199523 non-null int64\n",
      "CLSWKR                  199523 non-null object\n",
      "INDUSTRY                199523 non-null int64\n",
      "OCCUPATION              199523 non-null int64\n",
      "EDU                     199523 non-null object\n",
      "WAGE                    199523 non-null int64\n",
      "SCHOOL ATTENDING        199523 non-null object\n",
      "MARRIAGE                199523 non-null object\n",
      "INDUSTRY                199523 non-null object\n",
      "OCCUPATION              199523 non-null object\n",
      "RACE                    199523 non-null object\n",
      "HISPANIC ORI            199523 non-null object\n",
      "SEX                     199523 non-null object\n",
      "MEM UNION               199523 non-null object\n",
      "UNEMPLOY REASON         199523 non-null object\n",
      "EMPLOYMENT STATUS       199523 non-null object\n",
      "CAPGAIN                 199523 non-null int64\n",
      "CAPLOSS                 199523 non-null int64\n",
      "DIVIDENT                199523 non-null int64\n",
      "FEDTAX                  199523 non-null object\n",
      "TAX FILLER              199523 non-null object\n",
      "PREVIOUS STATE          199523 non-null object\n",
      "HOUSEHOLD STATUS        199523 non-null object\n",
      "FAMILY STATUS           199523 non-null object\n",
      "WEIGHT                  199523 non-null float64\n",
      "MIGRANT  (MSA)          199523 non-null object\n",
      "MIGRANT (REG)           199523 non-null object\n",
      "MIGRANT (WITHIN REG)    199523 non-null object\n",
      "LIVE IN HOUSE           199523 non-null object\n",
      "LIVE IN SUNBELT         199523 non-null object\n",
      "NUM EMPLOYEES           199523 non-null int64\n",
      "PARENT PRESENTED        199523 non-null object\n",
      "FATHER COUNTRY          199523 non-null object\n",
      "MOTHER COUNTRY          199523 non-null object\n",
      "SELF COUNTRY            199523 non-null object\n",
      "CITIZEN                 199523 non-null object\n",
      "OWN BUSINESS            199523 non-null int64\n",
      "VETERAN QUESIONAIRES    199523 non-null object\n",
      "VETERAN BENEFIT         199523 non-null int64\n",
      "WORK WEEKs IN YEAR      199523 non-null int64\n",
      "YEAR                    199523 non-null int64\n",
      "EARN                    199523 non-null object\n",
      "dtypes: float64(1), int64(12), object(29)\n",
      "memory usage: 63.9+ MB\n",
      "None\n"
     ]
    }
   ],
   "source": [
    "census = pd.read_csv('census_income_learn.csv', header=None)\n",
    "census.columns = ['AGE', 'CLSWKR', 'INDUSTRY', 'OCCUPATION', 'EDU', 'WAGE', 'SCHOOL ATTENDING', \n",
    "                  'MARRIAGE', 'INDUSTRY', 'OCCUPATION', 'RACE', 'HISPANIC ORI', 'SEX', 'MEM UNION', \n",
    "                  'UNEMPLOY REASON', 'EMPLOYMENT STATUS', 'CAPGAIN', 'CAPLOSS' , 'DIVIDENT',\n",
    "                  'FEDTAX', 'TAX FILLER', 'PREVIOUS STATE', 'HOUSEHOLD STATUS', \n",
    "                  'FAMILY STATUS', 'WEIGHT', 'MIGRANT  (MSA)', 'MIGRANT (REG)', \n",
    "                  'MIGRANT (WITHIN REG)', 'LIVE IN HOUSE', 'LIVE IN SUNBELT', 'NUM EMPLOYEES', \n",
    "                  'PARENT PRESENTED', 'FATHER COUNTRY', 'MOTHER COUNTRY', 'SELF COUNTRY',\n",
    "                  'CITIZEN', 'OWN BUSINESS', 'VETERAN QUESIONAIRES', 'VETERAN BENEFIT', \n",
    "                  'WORK WEEKs IN YEAR', 'YEAR', 'EARN']\n",
    "\n",
    "print(census.head(5))\n",
    "print(census.info())"
   ]
  },
  {
   "cell_type": "code",
   "execution_count": 3,
   "metadata": {
    "collapsed": false,
    "scrolled": false
   },
   "outputs": [
    {
     "data": {
      "text/html": [
       "<div>\n",
       "<table border=\"1\" class=\"dataframe\">\n",
       "  <thead>\n",
       "    <tr style=\"text-align: right;\">\n",
       "      <th></th>\n",
       "      <th>AGE</th>\n",
       "      <th>WAGE</th>\n",
       "      <th>CAPGAIN</th>\n",
       "      <th>CAPLOSS</th>\n",
       "      <th>DIVIDENT</th>\n",
       "      <th>WEIGHT</th>\n",
       "      <th>NUM EMPLOYEES</th>\n",
       "      <th>OWN BUSINESS</th>\n",
       "      <th>VETERAN BENEFIT</th>\n",
       "      <th>WORK WEEKs IN YEAR</th>\n",
       "      <th>YEAR</th>\n",
       "    </tr>\n",
       "  </thead>\n",
       "  <tbody>\n",
       "    <tr>\n",
       "      <th>count</th>\n",
       "      <td>199523.000000</td>\n",
       "      <td>199523.000000</td>\n",
       "      <td>199523.00000</td>\n",
       "      <td>199523.000000</td>\n",
       "      <td>199523.000000</td>\n",
       "      <td>199523.000000</td>\n",
       "      <td>199523.000000</td>\n",
       "      <td>199523.000000</td>\n",
       "      <td>199523.000000</td>\n",
       "      <td>199523.000000</td>\n",
       "      <td>199523.000000</td>\n",
       "    </tr>\n",
       "    <tr>\n",
       "      <th>mean</th>\n",
       "      <td>34.494199</td>\n",
       "      <td>55.426908</td>\n",
       "      <td>434.71899</td>\n",
       "      <td>37.313788</td>\n",
       "      <td>197.529533</td>\n",
       "      <td>1740.380269</td>\n",
       "      <td>1.956180</td>\n",
       "      <td>0.175438</td>\n",
       "      <td>1.514833</td>\n",
       "      <td>23.174897</td>\n",
       "      <td>94.499672</td>\n",
       "    </tr>\n",
       "    <tr>\n",
       "      <th>std</th>\n",
       "      <td>22.310895</td>\n",
       "      <td>274.896454</td>\n",
       "      <td>4697.53128</td>\n",
       "      <td>271.896428</td>\n",
       "      <td>1984.163658</td>\n",
       "      <td>993.768156</td>\n",
       "      <td>2.365126</td>\n",
       "      <td>0.553694</td>\n",
       "      <td>0.851473</td>\n",
       "      <td>24.411488</td>\n",
       "      <td>0.500001</td>\n",
       "    </tr>\n",
       "    <tr>\n",
       "      <th>min</th>\n",
       "      <td>0.000000</td>\n",
       "      <td>0.000000</td>\n",
       "      <td>0.00000</td>\n",
       "      <td>0.000000</td>\n",
       "      <td>0.000000</td>\n",
       "      <td>37.870000</td>\n",
       "      <td>0.000000</td>\n",
       "      <td>0.000000</td>\n",
       "      <td>0.000000</td>\n",
       "      <td>0.000000</td>\n",
       "      <td>94.000000</td>\n",
       "    </tr>\n",
       "    <tr>\n",
       "      <th>25%</th>\n",
       "      <td>15.000000</td>\n",
       "      <td>0.000000</td>\n",
       "      <td>0.00000</td>\n",
       "      <td>0.000000</td>\n",
       "      <td>0.000000</td>\n",
       "      <td>1061.615000</td>\n",
       "      <td>0.000000</td>\n",
       "      <td>0.000000</td>\n",
       "      <td>2.000000</td>\n",
       "      <td>0.000000</td>\n",
       "      <td>94.000000</td>\n",
       "    </tr>\n",
       "    <tr>\n",
       "      <th>50%</th>\n",
       "      <td>33.000000</td>\n",
       "      <td>0.000000</td>\n",
       "      <td>0.00000</td>\n",
       "      <td>0.000000</td>\n",
       "      <td>0.000000</td>\n",
       "      <td>1618.310000</td>\n",
       "      <td>1.000000</td>\n",
       "      <td>0.000000</td>\n",
       "      <td>2.000000</td>\n",
       "      <td>8.000000</td>\n",
       "      <td>94.000000</td>\n",
       "    </tr>\n",
       "    <tr>\n",
       "      <th>75%</th>\n",
       "      <td>50.000000</td>\n",
       "      <td>0.000000</td>\n",
       "      <td>0.00000</td>\n",
       "      <td>0.000000</td>\n",
       "      <td>0.000000</td>\n",
       "      <td>2188.610000</td>\n",
       "      <td>4.000000</td>\n",
       "      <td>0.000000</td>\n",
       "      <td>2.000000</td>\n",
       "      <td>52.000000</td>\n",
       "      <td>95.000000</td>\n",
       "    </tr>\n",
       "    <tr>\n",
       "      <th>max</th>\n",
       "      <td>90.000000</td>\n",
       "      <td>9999.000000</td>\n",
       "      <td>99999.00000</td>\n",
       "      <td>4608.000000</td>\n",
       "      <td>99999.000000</td>\n",
       "      <td>18656.300000</td>\n",
       "      <td>6.000000</td>\n",
       "      <td>2.000000</td>\n",
       "      <td>2.000000</td>\n",
       "      <td>52.000000</td>\n",
       "      <td>95.000000</td>\n",
       "    </tr>\n",
       "  </tbody>\n",
       "</table>\n",
       "</div>"
      ],
      "text/plain": [
       "                 AGE           WAGE       CAPGAIN        CAPLOSS  \\\n",
       "count  199523.000000  199523.000000  199523.00000  199523.000000   \n",
       "mean       34.494199      55.426908     434.71899      37.313788   \n",
       "std        22.310895     274.896454    4697.53128     271.896428   \n",
       "min         0.000000       0.000000       0.00000       0.000000   \n",
       "25%        15.000000       0.000000       0.00000       0.000000   \n",
       "50%        33.000000       0.000000       0.00000       0.000000   \n",
       "75%        50.000000       0.000000       0.00000       0.000000   \n",
       "max        90.000000    9999.000000   99999.00000    4608.000000   \n",
       "\n",
       "            DIVIDENT         WEIGHT  NUM EMPLOYEES   OWN BUSINESS  \\\n",
       "count  199523.000000  199523.000000  199523.000000  199523.000000   \n",
       "mean      197.529533    1740.380269       1.956180       0.175438   \n",
       "std      1984.163658     993.768156       2.365126       0.553694   \n",
       "min         0.000000      37.870000       0.000000       0.000000   \n",
       "25%         0.000000    1061.615000       0.000000       0.000000   \n",
       "50%         0.000000    1618.310000       1.000000       0.000000   \n",
       "75%         0.000000    2188.610000       4.000000       0.000000   \n",
       "max     99999.000000   18656.300000       6.000000       2.000000   \n",
       "\n",
       "       VETERAN BENEFIT  WORK WEEKs IN YEAR           YEAR  \n",
       "count    199523.000000       199523.000000  199523.000000  \n",
       "mean          1.514833           23.174897      94.499672  \n",
       "std           0.851473           24.411488       0.500001  \n",
       "min           0.000000            0.000000      94.000000  \n",
       "25%           2.000000            0.000000      94.000000  \n",
       "50%           2.000000            8.000000      94.000000  \n",
       "75%           2.000000           52.000000      95.000000  \n",
       "max           2.000000           52.000000      95.000000  "
      ]
     },
     "execution_count": 3,
     "metadata": {},
     "output_type": "execute_result"
    }
   ],
   "source": [
    "# Some general statistics\n",
    "census.describe()"
   ]
  },
  {
   "cell_type": "markdown",
   "metadata": {},
   "source": [
    "There are 13 columns with numeric values. In these 13 columns, there are no missing values. I will use these first 13 columns for inital model. Will include more features if the accuracy is low. More inspection in row 42th, which is the role of the label. "
   ]
  },
  {
   "cell_type": "markdown",
   "metadata": {},
   "source": [
    "Change the 'EARN' row to [1, 0] for classification"
   ]
  },
  {
   "cell_type": "code",
   "execution_count": 4,
   "metadata": {
    "collapsed": true
   },
   "outputs": [],
   "source": [
    "def processInput(data):\n",
    "    # Labels\n",
    "    data.loc[data['EARN'] == ' - 50000.', 'EARN'] = 0\n",
    "    data.loc[data['EARN'] == ' 50000+.', 'EARN'] = 1\n",
    "    \n",
    "    data['CAP NET'] = (data['CAPGAIN'] - data['CAPLOSS'])\n",
    "    \n",
    "    data.loc[data['SEX'] == ' Male', 'SEX'] = 1\n",
    "    data.loc[data['SEX'] == ' Female', 'SEX'] = 0"
   ]
  },
  {
   "cell_type": "code",
   "execution_count": 5,
   "metadata": {
    "collapsed": false
   },
   "outputs": [
    {
     "name": "stdout",
     "output_type": "stream",
     "text": [
      "[' - 50000.' ' 50000+.']\n",
      "[0 1]\n"
     ]
    }
   ],
   "source": [
    "print(census['EARN'].unique())\n",
    "processInput(census)\n",
    "print(census['EARN'].unique())"
   ]
  },
  {
   "cell_type": "code",
   "execution_count": 6,
   "metadata": {
    "collapsed": false
   },
   "outputs": [
    {
     "name": "stdout",
     "output_type": "stream",
     "text": [
      "0    187141\n",
      "1     12382\n",
      "Name: EARN, dtype: int64\n",
      "0.93794199165\n"
     ]
    }
   ],
   "source": [
    "# The data is heavily skewed toward not making 50,000. If the model only predict 0, then it has the accuracy of\n",
    "print(census['EARN'].value_counts())\n",
    "print(float(187141)/199523)"
   ]
  },
  {
   "cell_type": "markdown",
   "metadata": {},
   "source": [
    "# Simple Logistic Regression"
   ]
  },
  {
   "cell_type": "code",
   "execution_count": 13,
   "metadata": {
    "collapsed": false
   },
   "outputs": [
    {
     "name": "stdout",
     "output_type": "stream",
     "text": [
      "0.944297152657\n"
     ]
    }
   ],
   "source": [
    "#Logistic Regression\n",
    "from sklearn import cross_validation\n",
    "from sklearn.linear_model import LogisticRegression\n",
    "\n",
    "predictors = [\"AGE\", \"WAGE\", \"DIVIDENT\", \"SEX\", \"NUM EMPLOYEES\", \"CAP NET\", \"OWN BUSINESS\", \n",
    "              \"VETERAN BENEFIT\", \"WORK WEEKs IN YEAR\"]\n",
    "\n",
    "alg = LogisticRegression(random_state=1)\n",
    "# Compute the accuracy score for all the cross validation folds\n",
    "scores = cross_validation.cross_val_score(alg, census[predictors], list(census[\"EARN\"]), cv=3)\n",
    "# Take the mean of the scores\n",
    "print(scores.mean())"
   ]
  },
  {
   "cell_type": "markdown",
   "metadata": {},
   "source": [
    "# Random Forest "
   ]
  },
  {
   "cell_type": "code",
   "execution_count": 8,
   "metadata": {
    "collapsed": false
   },
   "outputs": [
    {
     "name": "stdout",
     "output_type": "stream",
     "text": [
      "0.945349654906\n"
     ]
    }
   ],
   "source": [
    "from sklearn.ensemble import RandomForestClassifier\n",
    "\n",
    "# Initialize our algorithm with the default paramters\n",
    "# n_estimators is the number of trees we want to make\n",
    "# min_samples_split is the minimum number of rows we need to make a split\n",
    "# min_samples_leaf is the minimum number of samples we can have at the place where a tree branch ends (the bottom points of the tree)\n",
    "alg = RandomForestClassifier(random_state=1, n_estimators=10, min_samples_split=2, min_samples_leaf=1)\n",
    "\n",
    "scores = cross_validation.cross_val_score(alg, census[predictors], list(census[\"EARN\"]), cv=3)\n",
    "\n",
    "print(scores.mean())"
   ]
  },
  {
   "cell_type": "markdown",
   "metadata": {},
   "source": [
    "# Find Best Features using SelectKBest"
   ]
  },
  {
   "cell_type": "code",
   "execution_count": 26,
   "metadata": {
    "collapsed": false
   },
   "outputs": [
    {
     "data": {
      "image/png": "[encoded data removed]",
      "text/plain": [
       "<matplotlib.figure.Figure at 0x7fbea64a2110>"
      ]
     },
     "metadata": {},
     "output_type": "display_data"
    },
    {
     "name": "stdout",
     "output_type": "stream",
     "text": [
      "[  3744.14826079    120.11068679   6361.44175427   5082.5266498\n",
      "  10410.10044403  11312.16726281    327.3568264    4043.02701903\n",
      "  14743.48690843]\n"
     ]
    }
   ],
   "source": [
    "from sklearn.feature_selection import SelectKBest, f_classif, f_regression\n",
    "\n",
    "selector = SelectKBest(f_classif, k=\"all\")\n",
    "selector.fit(census[predictors], census[\"EARN\"])\n",
    "\n",
    "#scores = -np.log10(selector.pvalues_)\n",
    "scores = np.log10(selector.scores_)\n",
    "\n",
    "# Plot the scores. \n",
    "plt.bar(range(len(predictors)), scores)\n",
    "plt.xticks(range(len(predictors)), predictors, rotation='vertical')\n",
    "plt.show()\n",
    "\n",
    "print(selector.scores_)"
   ]
  },
  {
   "cell_type": "markdown",
   "metadata": {},
   "source": [
    "Only the 'Wage' and 'OWN BUSINESS' features are the best features from the graph and we redo the logistic regression and random forest with these 2 features."
   ]
  },
  {
   "cell_type": "code",
   "execution_count": 27,
   "metadata": {
    "collapsed": false
   },
   "outputs": [
    {
     "name": "stdout",
     "output_type": "stream",
     "text": [
      "0.944221973355\n"
     ]
    }
   ],
   "source": [
    "predictors = [\"AGE\", \"DIVIDENT\", \"SEX\", \"NUM EMPLOYEES\", \"CAP NET\", \n",
    "              \"VETERAN BENEFIT\", \"WORK WEEKs IN YEAR\"]\n",
    "\n",
    "alg = LogisticRegression(random_state=1)\n",
    "# Compute the accuracy score for all the cross validation folds\n",
    "scores = cross_validation.cross_val_score(alg, census[predictors], list(census[\"EARN\"]), cv=3)\n",
    "# Take the mean of the scores\n",
    "print(scores.mean())"
   ]
  },
  {
   "cell_type": "code",
   "execution_count": 28,
   "metadata": {
    "collapsed": false
   },
   "outputs": [
    {
     "name": "stdout",
     "output_type": "stream",
     "text": [
      "0.946156584345\n"
     ]
    }
   ],
   "source": [
    "predictors = [\"AGE\", \"DIVIDENT\", \"SEX\", \"NUM EMPLOYEES\", \"CAP NET\", \n",
    "              \"VETERAN BENEFIT\", \"WORK WEEKs IN YEAR\"]\n",
    "\n",
    "alg = RandomForestClassifier(random_state=1, n_estimators=10, min_samples_split=2, min_samples_leaf=1)\n",
    "scores = cross_validation.cross_val_score(alg, census[predictors], list(census[\"EARN\"]), cv=3)\n",
    "\n",
    "print(scores.mean())"
   ]
  }
 ],
 "metadata": {
  "kernelspec": {
   "display_name": "Python 2",
   "language": "python",
   "name": "python2"
  },
  "language_info": {
   "codemirror_mode": {
    "name": "ipython",
    "version": 2
   },
   "file_extension": ".py",
   "mimetype": "text/x-python",
   "name": "python",
   "nbconvert_exporter": "python",
   "pygments_lexer": "ipython2",
   "version": "2.7.12"
  }
 },
 "nbformat": 4,
 "nbformat_minor": 0
}
