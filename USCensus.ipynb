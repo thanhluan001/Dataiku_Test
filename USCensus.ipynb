{
 "cells": [
  {
   "cell_type": "code",
   "execution_count": 1,
   "metadata": {
    "collapsed": true
   },
   "outputs": [],
   "source": [
    "import pandas as pd\n",
    "import numpy as np\n",
    "import pylab as plt"
   ]
  },
  {
   "cell_type": "markdown",
   "metadata": {},
   "source": [
    "Read some data "
   ]
  },
  {
   "cell_type": "code",
   "execution_count": 28,
   "metadata": {
    "collapsed": false
   },
   "outputs": [
    {
     "name": "stdout",
     "output_type": "stream",
     "text": [
      "   0                                1   2   3                            4   \\\n",
      "0  73                  Not in universe   0   0         High school graduate   \n",
      "1  58   Self-employed-not incorporated   4  34   Some college but no degree   \n",
      "2  18                  Not in universe   0   0                   10th grade   \n",
      "3   9                  Not in universe   0   0                     Children   \n",
      "4  10                  Not in universe   0   0                     Children   \n",
      "\n",
      "   5                 6               7                             8   \\\n",
      "0   0   Not in universe         Widowed   Not in universe or children   \n",
      "1   0   Not in universe        Divorced                  Construction   \n",
      "2   0       High school   Never married   Not in universe or children   \n",
      "3   0   Not in universe   Never married   Not in universe or children   \n",
      "4   0   Not in universe   Never married   Not in universe or children   \n",
      "\n",
      "                                     9     ...                  32  \\\n",
      "0                       Not in universe    ...       United-States   \n",
      "1   Precision production craft & repair    ...       United-States   \n",
      "2                       Not in universe    ...             Vietnam   \n",
      "3                       Not in universe    ...       United-States   \n",
      "4                       Not in universe    ...       United-States   \n",
      "\n",
      "               33              34                                    35 36  \\\n",
      "0   United-States   United-States     Native- Born in the United States  0   \n",
      "1   United-States   United-States     Native- Born in the United States  0   \n",
      "2         Vietnam         Vietnam   Foreign born- Not a citizen of U S   0   \n",
      "3   United-States   United-States     Native- Born in the United States  0   \n",
      "4   United-States   United-States     Native- Born in the United States  0   \n",
      "\n",
      "                 37  38  39  40         41  \n",
      "0   Not in universe   2   0  95   - 50000.  \n",
      "1   Not in universe   2  52  94   - 50000.  \n",
      "2   Not in universe   2   0  95   - 50000.  \n",
      "3   Not in universe   0   0  94   - 50000.  \n",
      "4   Not in universe   0   0  94   - 50000.  \n",
      "\n",
      "[5 rows x 42 columns]\n"
     ]
    }
   ],
   "source": [
    "census = pd.read_csv('census_income_learn.csv', header=None)\n",
    "#census.columns = ['AGE', 'CLSWKR', 'INDUSTRY', 'OCCUPATION', 'AGI', 'EDU', 'PERHOUR', 'EDULSTWK', \n",
    "#                  'MARITL', 'MJIND', 'MJOCC', 'RACE', 'HISORGN', 'SEX', 'NUNMEM', 'UNTYPE', 'WKSTAT', \n",
    "#                  'CAPGAIN', 'CAPLOSS' , 'DIVIDENT', 'FEDTAX', 'FILESTAT', 'REGPREVI', 'STPREVI', \n",
    "#                  'HHDFMX', 'HHDREL', 'WEIGHT', 'WEIGHT', 'MIGMTR3', 'MIGMTR4', 'MIGSAME', 'MIGSUN',\n",
    "#                  'NOEMP', 'PARENT', 'PEARNVAL', 'PEFNTVTY', 'PEMNTVTY', 'PENATVTY', 'CITIZEN', 'TOTVAL',\n",
    "#                  'SEOTR', 'TAXINC', 'VETQVA', 'VETYN', 'WKSWORK']\n",
    "\n",
    "print(census.head(5))"
   ]
  },
  {
   "cell_type": "code",
   "execution_count": 27,
   "metadata": {
    "collapsed": false
   },
   "outputs": [
    {
     "ename": "SyntaxError",
     "evalue": "invalid syntax (<ipython-input-27-0ce2def30cf7>, line 1)",
     "output_type": "error",
     "traceback": [
      "\u001b[1;36m  File \u001b[1;32m\"<ipython-input-27-0ce2def30cf7>\"\u001b[1;36m, line \u001b[1;32m1\u001b[0m\n\u001b[1;33m    print(census.iloc[[:],[41]])\u001b[0m\n\u001b[1;37m                       ^\u001b[0m\n\u001b[1;31mSyntaxError\u001b[0m\u001b[1;31m:\u001b[0m invalid syntax\n"
     ]
    }
   ],
   "source": [
    "print(census.iloc[[:],[41]])"
   ]
  }
 ],
 "metadata": {
  "kernelspec": {
   "display_name": "Python 2",
   "language": "python",
   "name": "python2"
  },
  "language_info": {
   "codemirror_mode": {
    "name": "ipython",
    "version": 2
   },
   "file_extension": ".py",
   "mimetype": "text/x-python",
   "name": "python",
   "nbconvert_exporter": "python",
   "pygments_lexer": "ipython2",
   "version": "2.7.6"
  }
 },
 "nbformat": 4,
 "nbformat_minor": 0
}
