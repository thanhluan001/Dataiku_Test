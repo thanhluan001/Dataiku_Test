{
 "cells": [
  {
   "cell_type": "code",
   "execution_count": 1,
   "metadata": {
    "collapsed": true
   },
   "outputs": [],
   "source": [
    "import pandas as pd\n",
    "import numpy as np\n",
    "import pylab as plt"
   ]
  },
  {
   "cell_type": "markdown",
   "metadata": {},
   "source": [
    "# Process Input"
   ]
  },
  {
   "cell_type": "code",
   "execution_count": 2,
   "metadata": {
    "collapsed": false,
    "scrolled": false
   },
   "outputs": [
    {
     "name": "stdout",
     "output_type": "stream",
     "text": [
      "                 AGE           WAGE       CAPGAIN        CAPLOSS  \\\n",
      "count  199523.000000  199523.000000  199523.00000  199523.000000   \n",
      "mean       34.494199      55.426908     434.71899      37.313788   \n",
      "std        22.310895     274.896454    4697.53128     271.896428   \n",
      "min         0.000000       0.000000       0.00000       0.000000   \n",
      "25%        15.000000       0.000000       0.00000       0.000000   \n",
      "50%        33.000000       0.000000       0.00000       0.000000   \n",
      "75%        50.000000       0.000000       0.00000       0.000000   \n",
      "max        90.000000    9999.000000   99999.00000    4608.000000   \n",
      "\n",
      "            DIVIDENT         WEIGHT  NUM EMPLOYEES   OWN BUSINESS  \\\n",
      "count  199523.000000  199523.000000  199523.000000  199523.000000   \n",
      "mean      197.529533    1740.380269       1.956180       0.175438   \n",
      "std      1984.163658     993.768156       2.365126       0.553694   \n",
      "min         0.000000      37.870000       0.000000       0.000000   \n",
      "25%         0.000000    1061.615000       0.000000       0.000000   \n",
      "50%         0.000000    1618.310000       1.000000       0.000000   \n",
      "75%         0.000000    2188.610000       4.000000       0.000000   \n",
      "max     99999.000000   18656.300000       6.000000       2.000000   \n",
      "\n",
      "       VETERAN BENEFIT  WORK WEEKs IN YEAR           YEAR  \n",
      "count    199523.000000       199523.000000  199523.000000  \n",
      "mean          1.514833           23.174897      94.499672  \n",
      "std           0.851473           24.411488       0.500001  \n",
      "min           0.000000            0.000000      94.000000  \n",
      "25%           2.000000            0.000000      94.000000  \n",
      "50%           2.000000            8.000000      94.000000  \n",
      "75%           2.000000           52.000000      95.000000  \n",
      "max           2.000000           52.000000      95.000000  \n"
     ]
    }
   ],
   "source": [
    "census = pd.read_csv('census_income_learn.csv', header=None)\n",
    "census.columns = ['AGE', 'CLSWKR', 'INDUSTRY', 'OCCUPATION', 'EDU', 'WAGE', 'SCHOOL ATTENDING', \n",
    "                  'MARRIAGE', 'INDUSTRY', 'OCCUPATION', 'RACE', 'HISPANIC ORI', 'SEX', 'MEM UNION', \n",
    "                  'UNEMPLOY REASON', 'EMPLOYMENT STATUS', 'CAPGAIN', 'CAPLOSS' , 'DIVIDENT',\n",
    "                  'FEDTAX', 'TAX FILLER', 'PREVIOUS STATE', 'HOUSEHOLD STATUS', \n",
    "                  'FAMILY STATUS', 'WEIGHT', 'MIGRANT  (MSA)', 'MIGRANT (REG)', \n",
    "                  'MIGRANT (WITHIN REG)', 'LIVE IN HOUSE', 'LIVE IN SUNBELT', 'NUM EMPLOYEES', \n",
    "                  'PARENT PRESENTED', 'FATHER COUNTRY', 'MOTHER COUNTRY', 'SELF COUNTRY',\n",
    "                  'CITIZEN', 'OWN BUSINESS', 'VETERAN QUESIONAIRES', 'VETERAN BENEFIT', \n",
    "                  'WORK WEEKs IN YEAR', 'YEAR', 'EARN']\n",
    "\n",
    "census.head(5)\n",
    "print(census.describe())"
   ]
  },
  {
   "cell_type": "markdown",
   "metadata": {},
   "source": [
    "There are 13 columns with numeric values. In these 13 columns, there are no missing values. I will use these first 13 columns for inital model. Will include more features if the accuracy is low. More inspection in row 42th, which is the role of the label. "
   ]
  },
  {
   "cell_type": "markdown",
   "metadata": {},
   "source": [
    "Change the 'EARN' row to [1, 0] for classification"
   ]
  },
  {
   "cell_type": "code",
   "execution_count": 3,
   "metadata": {
    "collapsed": false
   },
   "outputs": [
    {
     "name": "stdout",
     "output_type": "stream",
     "text": [
      "[0 1]\n"
     ]
    }
   ],
   "source": [
    "census.loc[census['EARN'] == ' - 50000.', 'EARN'] = 0\n",
    "census.loc[census['EARN'] == ' 50000+.', 'EARN'] = 1\n",
    "print(census['EARN'].unique())"
   ]
  },
  {
   "cell_type": "code",
   "execution_count": 4,
   "metadata": {
    "collapsed": false
   },
   "outputs": [
    {
     "name": "stdout",
     "output_type": "stream",
     "text": [
      "0    187141\n",
      "1     12382\n",
      "Name: EARN, dtype: int64\n",
      "0.93794199165\n"
     ]
    }
   ],
   "source": [
    "# The data is heavily skewed toward not making 50,000. If the model only predict 0, then it has the accuracy of\n",
    "print(census['EARN'].value_counts())\n",
    "print(float(187141)/199523)"
   ]
  },
  {
   "cell_type": "markdown",
   "metadata": {},
   "source": [
    "# Simple Linear Regression"
   ]
  },
  {
   "cell_type": "code",
   "execution_count": 5,
   "metadata": {
    "collapsed": false
   },
   "outputs": [],
   "source": [
    "from sklearn.linear_model import LinearRegression\n",
    "from sklearn.cross_validation import KFold\n",
    "\n",
    "predictors = [\"AGE\", \"WAGE\", \"DIVIDENT\", \"NUM EMPLOYEES\", \"OWN BUSINESS\", \"VETERAN BENEFIT\", \"WORK WEEKs IN YEAR\"]\n",
    "\n",
    "# Initialize our algorithm class\n",
    "alg = LinearRegression()\n",
    "\n",
    "# Generate cross validation folds \n",
    "kf = KFold(census.shape[0], n_folds=3, random_state=1)\n",
    "\n",
    "predictions = []\n",
    "for train, test in kf:\n",
    "    train_predictors = (census[predictors].iloc[train,:])\n",
    "    train_target = census[\"EARN\"].iloc[train]\n",
    "    # Training the algorithm\n",
    "    alg.fit(train_predictors, train_target)\n",
    "    # Make predictions on the test fold\n",
    "    test_predictions = alg.predict(census[predictors].iloc[test,:])\n",
    "    predictions.append(test_predictions)"
   ]
  },
  {
   "cell_type": "code",
   "execution_count": 6,
   "metadata": {
    "collapsed": false
   },
   "outputs": [
    {
     "name": "stdout",
     "output_type": "stream",
     "text": [
      "0.938778987886\n"
     ]
    }
   ],
   "source": [
    "predictions = np.concatenate(predictions, axis=0)\n",
    "\n",
    "# Map predictions to outcomes (only possible outcomes are 1 and 0)\n",
    "predictions[predictions > .5] = 1\n",
    "predictions[predictions <=.5] = 0\n",
    "\n",
    "accuracy = ( float((predictions == census[\"EARN\"]).sum()) / len(predictions))\n",
    "print(accuracy)"
   ]
  },
  {
   "cell_type": "code",
   "execution_count": 7,
   "metadata": {
    "collapsed": false
   },
   "outputs": [
    {
     "name": "stdout",
     "output_type": "stream",
     "text": [
      "[[  0.00000000e+00   1.99240000e+05]\n",
      " [  1.00000000e+00   2.83000000e+02]]\n"
     ]
    }
   ],
   "source": [
    "# Check how many of 1 the model predicts\n",
    "unique, counts = np.unique(predictions, return_counts=True)\n",
    "print np.asarray((unique, counts)).T"
   ]
  }
 ],
 "metadata": {
  "kernelspec": {
   "display_name": "Python 2",
   "language": "python",
   "name": "python2"
  },
  "language_info": {
   "codemirror_mode": {
    "name": "ipython",
    "version": 2
   },
   "file_extension": ".py",
   "mimetype": "text/x-python",
   "name": "python",
   "nbconvert_exporter": "python",
   "pygments_lexer": "ipython2",
   "version": "2.7.12"
  }
 },
 "nbformat": 4,
 "nbformat_minor": 0
}
